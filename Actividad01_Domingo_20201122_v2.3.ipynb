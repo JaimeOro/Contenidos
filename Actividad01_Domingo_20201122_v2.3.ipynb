{
 "cells": [
  {
   "cell_type": "markdown",
   "metadata": {},
   "source": [
    "<div style=\"width:100%; height:3em\">  </div>"
   ]
  },
  {
   "cell_type": "markdown",
   "metadata": {},
   "source": [
    " \n",
    "<h2><span style=\"color:#A8A8A8;\">   Actividad #01:</span></h2> \n",
    " <strong><br><br><span style=\"font-size: 4em; margin-left:2em;text-align:center\">El Efecto Fotoeléctrico</span><br><br></strong> \n",
    " <br><br><br>\n",
    "<ul style=\"list-style-type:none;   float:left\">\n",
    "        <li>   Asignatura:  <strong>Fundamentos Físicos de la Informática </strong></li>\n",
    "        <li>     Profesor:  <strong>  Alberto Corbi Bellot</strong> </li>\n",
    "        <li>   Fecha:   <strong>02 de diciembre de de 2020 </strong> </li> \n",
    "        <li>    Autores: \n",
    "               <ul style=\"list-style-type:none;  padding-left:5em\">\n",
    "                        <li> <strong> Anyel Martich </strong></li>\n",
    "                        <li> <strong> Alex Sun </strong></li>\n",
    "                        <li> <strong>Joffe Pilco</strong> </li>\n",
    "                        <li>  <strong>Jaime Orozco </strong></li>\n",
    "            </ul></li></ul>\n",
    "       \n",
    "            "
   ]
  },
  {
   "cell_type": "markdown",
   "metadata": {},
   "source": [
    "   <br><br><br><br><br>   \n",
    "### Índice\n",
    " <ul style=\"list-style-type:none; margin-left:3%; margin-top:2em\">    \n",
    "     <li><a style=\"text-decoration: none;\" href=\"#calentamiento\">1.- Ejercicio de calentamiento</a></li>    \n",
    "     <li style=\"margin-top:1em;\"><a  style=\"text-decoration: none;\" href=\"#ejercicio1\">2.- Primer Ejercicio: Laboratorio virtual</a></li>         \n",
    "    <ul style=\"list-style-type:none;\">\n",
    "        <li  style=\"margin-top:1em\"><a style=\"text-decoration: none;\" href=\"#sheep\">2.1.- ¿Qué hace CheepJ?</a></li>\n",
    "        <li  style=\"margin-top:1em\"><a style=\"text-decoration: none;\" href=\"#relacionmm\">2.2.- Relación matemática entre longitud de onda y frecuencia de una onda electromagnética</a></li>\n",
    "        <li  style=\"margin-top:1em\"><a style=\"text-decoration: none;\" href=\"#cheepweb\">2.2- ¿En qué estándares Web se basa?</a></li>\n",
    "         <li  style=\"margin-top:1em\"><a style=\"text-decoration: none;\" href=\"#tabla\">2.3- Tabla: [Color-Longitud de onda - frecuencia]</a></li>\n",
    "     </ul>\n",
    "    </li>    \n",
    "     <li  style=\"margin-top:1em\"><a style=\"text-decoration: none;\" href=\"#ejercicio2\">3.- Segundo Ejercicio: Ajuste a una recta </a></li>\n",
    "      <li  style=\"margin-top:1em\"><a style=\"text-decoration: none;\" href=\"#ejercicio3\">4.- Tercer Ejercicio: Representación gráfica de los datos</a></li>\n",
    "      <li  style=\"margin-top:1em\"><a style=\"text-decoration: none;\"  href=\"#premium\">5.- Ejercicio \"Premium\": Intensidad de corriente en función de la intensidad de la luz</a></li>\n",
    "    <li  style=\"margin-top:1em\"><a style=\"text-decoration: none;\" href=\"#historia\">6.- Historia en torno al efecto fotoeléctrico</a></li>\n",
    "     <li  style=\"margin-top:1em\"><a style=\"text-decoration: none;\" href=\"#valoraciongrupo\">7.- Tabla de valoración individual</a></li>\n",
    "     <li  style=\"margin-top:1em\"><a style=\"text-decoration: none;\" href=\"#bibliografia\">8.- Bibliografía</a></li>\n",
    "     \n",
    "  </ul>\n",
    "   <br><br><br><br><br>"
   ]
  },
  {
   "cell_type": "markdown",
   "metadata": {},
   "source": [
    "##    <a id=\"calentamiento\"></a>Ejercicio de calentamiento"
   ]
  },
  {
   "cell_type": "markdown",
   "metadata": {},
   "source": [
    "#### Demostrar la siguiente afirmación:"
   ]
  },
  {
   "cell_type": "markdown",
   "metadata": {},
   "source": [
    "$$\\frac{x - x_1}{x_2 - x_1} = \\frac{y - y_1}{y_2 - y_1 } \\equiv y= m \\cdot x + b $$"
   ]
  },
  {
   "cell_type": "markdown",
   "metadata": {},
   "source": [
    "Un <strong>ajuste a una recta</strong> (o regresión lineal) lo que persigue es hallar la ecuación de la recta que mejor pasa por una serie de puntos. Recordamos que una recta se puede definir, como mínimo, con <strong>dos puntos</strong> $x_1,y_1$ y $x_2,y_2$, de manera que cualquier otro punto de dicha recta $x,y$ ,  cumple que: "
   ]
  },
  {
   "cell_type": "markdown",
   "metadata": {},
   "source": [
    "$$\\frac{x - x_1}{x_2 - x_1} = \\frac{y - y_1}{y_2 - y_1 }$$"
   ]
  },
  {
   "cell_type": "markdown",
   "metadata": {},
   "source": [
    "Esta igualdad también se puede expresar como: $ y= m \\cdot x + b $ donde $ m=\\frac{y_1-y_2}{x_1-x_2}\\  \\hspace{.2cm}y\\hspace{.2cm}   b=\\frac{x_1y_2-x_2y_1}{x_1-x_2}$\n",
    "\n",
    "#### Demostración: \n",
    "<br>\n",
    "<div style=\"float:left\"> \n",
    "Despejando:\n",
    "    <br> <br>\n",
    "$$\\hspace{0,6cm}\\frac{x - x_1}{x_2 - x_1} = \\frac{y - y_1}{y_2 - y_1 };      \n",
    "\\hspace{0.6cm}y-y_1=\\frac{(x - x_1)(y_2 - y_1 )}{x_2 - x_1}; \n",
    "\\hspace{0.6cm}y-y_1=\\frac{xy_2 -xy_1-x_1y_2+x_1y_1}{x_2 - x_1};$$\n",
    "<br>\n",
    "Pasamos término $ y_1 $ a la fracción: \n",
    "<br><br>\n",
    "$$\\hspace{0,6cm}y=\\frac{xy_2 -xy_1-x_1y_2+x_1y_1}{x_2 - x_1} + y_1;\n",
    "\\hspace{0.6cm}y=\\frac{xy_2 -xy_1-x_1y_2+x_1y_1+y_1({x_2 - x_1})}{x_2 - x_1};$$\n",
    "   \n",
    "<br>\n",
    "Operamos y cancelamos el termino $ x_1y_1 $  con $  -y_1x_1 $ : \n",
    "<br><br>\n",
    "      \n",
    "$$\\hspace{0.6cm}y=\\frac{xy_2 -xy_1-x_1y_2+ {x_1y_1}+y_1x_2 - {y_1x_1}}{x_2 - x_1};\n",
    "\\hspace{0.6cm}y=\\frac{xy_2 -xy_1-x_1y_2+y_1x_2}{x_2 - x_1};$$\n",
    "<br>\n",
    "Factor común a $ x $ y multiplicamos arriba y abajo de los quebrados por $ -1 $: \n",
    "<br><br>\n",
    "          \n",
    "$$\\hspace{0.6cm}y=\\frac{y_2 -y_1}{x_2 - x_1} x -\\frac{x_1y_2+y_1x_2}{x_2 - x_1};\n",
    "\\hspace{0.6cm}y=\\frac{-1\\cdot (y_2 -y_1)}{-1\\cdot (x_2 - x_1)} x -\\frac{-1\\cdot(x_1y_2+y_1x_2)}{-1\\cdot(x_2 - x_1)};$$\n",
    "<br> \n",
    "    \n",
    "Resultado: \n",
    "<br><br>\n",
    "$$\\hspace{0.6cm}y= \\underbrace{\\frac{y_1 -y_2}{x_1 - x_2}}_{m}\\cdot x + \\underbrace{\\frac{x_1y_2 -x_2y_1}{x_1- x_2}}_{b} $$\n",
    "</div>"
   ]
  },
  {
   "cell_type": "markdown",
   "metadata": {},
   "source": [
    "<a id='ejercicio1'></a><h4><span style=\"font-size:2.2em;\"><u>Laboratorio virtual:</u></span><h4>"
   ]
  },
  {
   "cell_type": "markdown",
   "metadata": {},
   "source": [
    "###  <a id=\"sheep\"></a>¿Qué hace CheepJ tras el telón y en qué estándares Web se basa?"
   ]
  },
  {
   "cell_type": "markdown",
   "metadata": {},
   "source": [
    "# Toma de medidas con el applet del efecto Fotoeléctrico"
   ]
  },
  {
   "cell_type": "markdown",
   "metadata": {},
   "source": [
    "## Primer ejercicio. \n",
    "\n",
    "Haced una tabla rápida con el nombre de cada color del arcoíris (azul, rojo, amarillo, etc.) en una columna, en una segunda columna escribe su longitud de onda (en metros) y en una tercera columna, su frecuencia (en Hercios). "
   ]
  },
  {
   "cell_type": "markdown",
   "metadata": {},
   "source": [
    "### <a id=\"relacionmm\"></a> ¿Cuál es la relación matemática entre longitud de onda y frecuencia de una onda electromagnética?"
   ]
  },
  {
   "cell_type": "markdown",
   "metadata": {},
   "source": [
    "#### Experimentando con Sodio\n",
    "  $ \\lambda = $ Longitud de onda | $ V = $ Potenciale de Frenado \n",
    " :------: |:----------: \n",
    " $331{nm}$| $ -1.40_V $  \n",
    "         |          |             |             |\n",
    " $368{nm}$| $  -1.00_V $   \n",
    "         |          |             |             |\n",
    " $415{nm}$   |$  -0.60_V $ \n",
    "         |          |             |             | \n",
    "$466{nm}$ |$  -0.20_V $ \n",
    "  "
   ]
  },
  {
   "cell_type": "markdown",
   "metadata": {},
   "source": [
    "<table>\n",
    " <tr><td style=\"text-align:left;\">\n",
    "Sodio  $ \\lambda = 331{nm}$;  $ V = -1.40_V $ \n",
    "\n",
    "</td>\n",
    "<td style=\"text-align:left;\">\n",
    "Sodio  $ \\lambda = 368{nm}$;  $ V = -1.00_V $ \n",
    "\n",
    "</td></tr>\n",
    "    <tr><td>\n",
    " \n",
    "<img src=\"https://github.com/JaimeOro/FFI-Actividad01/blob/main/sodio-331-140.gif?raw=true\" \n",
    "     style=\"height: 320px; margin-right: 1% ; margin-bottom: 0.0em\">\n",
    "</td> \n",
    "\n",
    "<td>\n",
    "\n",
    "<img src=\"https://github.com/JaimeOro/FFI-Actividad01/blob/main/sodio-368-100.gif?raw=true\" \n",
    "     style=\" height: 320px; margin-right: 1%; margin-top: 0.0em;\">\n",
    "</td></tr>\n",
    "</table>"
   ]
  },
  {
   "cell_type": "markdown",
   "metadata": {},
   "source": [
    "<table>\n",
    " <tr><td style=\"text-align:left;\">\n",
    "Sodio  $ \\lambda = 415{nm}$;  $ V = -0.60_V $ \n",
    "\n",
    "</td>\n",
    "<td style=\"text-align:left;\">\n",
    "Sodio  $ \\lambda = 466{nm}$;  $ V = -0.20_V $ \n",
    "\n",
    "</td></tr>\n",
    "    <tr><td>\n",
    " \n",
    "<img src=\"https://github.com/JaimeOro/FFI-Actividad01/blob/main/sodio-415-060.gif?raw=true\" \n",
    "     style=\"float:left; height: 320px; margin-right: 1% ; margin-bottom: 0.0em\">\n",
    "</td> \n",
    "\n",
    "<td>\n",
    "\n",
    "<img src=\"https://github.com/JaimeOro/FFI-Actividad01/blob/main/sodio-466-020.gif?raw=true\" \n",
    "     style=\"float:right; height: 320px; margin-right: 1%; margin-top: 0.0em;\">\n",
    "</td></tr>\n",
    "</table>"
   ]
  },
  {
   "cell_type": "code",
   "execution_count": 4,
   "metadata": {
    "execution": {
     "iopub.execute_input": "2020-11-22T14:13:36.152Z",
     "iopub.status.busy": "2020-11-22T14:13:36.145Z",
     "iopub.status.idle": "2020-11-22T14:13:36.170Z",
     "shell.execute_reply": "2020-11-22T14:13:36.094Z"
    }
   },
   "outputs": [
    {
     "ename": "SyntaxError",
     "evalue": "invalid syntax (<ipython-input-4-4ac08ce2cb36>, line 1)",
     "output_type": "error",
     "traceback": [
      "\u001b[1;36m  File \u001b[1;32m\"<ipython-input-4-4ac08ce2cb36>\"\u001b[1;36m, line \u001b[1;32m1\u001b[0m\n\u001b[1;33m    var longitudes_de_onda_medidas_sodio = [331, 368, 415, 466].map(x => x*1e-9);  // para pasar a metros\u001b[0m\n\u001b[1;37m        ^\u001b[0m\n\u001b[1;31mSyntaxError\u001b[0m\u001b[1;31m:\u001b[0m invalid syntax\n"
     ]
    }
   ],
   "source": [
    "var longitudes_de_onda_medidas_sodio = [331, 368, 415, 466].map(x => x*1e-9);  // para pasar a metros\n",
    "var voltajes_medidos_sodio = [-1.40, -1.00, -0.60, -0.20];  // en voltios (voltaje de frenado)\n",
    "\n",
    "console.log('Logitudes de ondas medidas Sodio= ' + longitudes_de_onda_medidas_sodio);\n",
    "\n",
    "var inversa_de_longitudes_de_onda_sodio = longitudes_de_onda_medidas_sodio.map(lambda => 1/lambda );  \n",
    "var datos_a_ajustar_sodio = voltajes_medidos_sodio.reduce((tuplas_longitud_onda_voltaje_sodio, b, i) => {\n",
    "    tuplas_longitud_onda_voltaje_sodio.push([inversa_de_longitudes_de_onda_sodio[i], b]);\n",
    "  return tuplas_longitud_onda_voltaje_sodio;\n",
    "}, []);\n",
    "console.log('Tuplas 1/lambdas= ' + datos_a_ajustar_sodio); // Verás que son tuplas de valores 1/lambda y voltajes"
   ]
  },
  {
   "cell_type": "markdown",
   "metadata": {},
   "source": [
    "#### Experimentando con  Zinc\n",
    "  $ \\lambda = $ Longitud de onda | $ V = $ Potenciale de Frenado \n",
    " :------: |:----------: \n",
    " $215{nm}$| $ -1.40_V $  \n",
    "         |          |             |             |\n",
    " $230{nm}$| $  -1.00_V $   \n",
    "         |          |             |             |\n",
    " $246{nm}$   |$  -0.60_V $ \n",
    "         |          |             |             | \n",
    "$262{nm}$ |$  -0.20_V $ "
   ]
  },
  {
   "cell_type": "markdown",
   "metadata": {},
   "source": [
    "<table>\n",
    " <tr><td style=\"text-align:left;\">Sodio  $ \\lambda = 215{nm}$;  $ V = -1.40_V $ \n",
    "</td>\n",
    "<td style=\"text-align:left;\">Sodio  $ \\lambda = 230{nm}$;  $ V = -1.00_V $ \n",
    "</td></tr>\n",
    "    <tr><td>\n",
    " \n",
    "<img src=\"https://github.com/JaimeOro/FFI-Actividad01/blob/main/zinc-215-140.gif?raw=true\" \n",
    "     style=\"height: 320px; margin-right: 1% ; margin-bottom: 0.0em\">\n",
    "</td> \n",
    "\n",
    "<td>\n",
    "\n",
    "<img src=\"https://github.com/JaimeOro/FFI-Actividad01/blob/main/zinc-230-100.gif?raw=true\" \n",
    "     style=\" height: 320px; margin-right: 1%; margin-top: 0.0em;\">\n",
    "</td></tr>\n",
    "</table>"
   ]
  },
  {
   "cell_type": "markdown",
   "metadata": {},
   "source": [
    "<table>\n",
    " <tr><td style=\"text-align:left;\">\n",
    "Sodio  $ \\lambda = 246{nm}$;  $ V = -0.60_V $ \n",
    "</td>\n",
    "<td style=\"text-align:left;\">Sodio  $ \\lambda = 262{nm}$;  $ V = -0.20_V $ \n",
    "</td></tr>\n",
    "    <tr><td>\n",
    " \n",
    "<img src=\"https://github.com/JaimeOro/FFI-Actividad01/blob/main/zinc-246-060.gif?raw=true\" \n",
    "     style=\"float:left; height: 320px; margin-right: 1% ; margin-bottom: 0.0em\">\n",
    "</td> \n",
    "\n",
    "<td>\n",
    "\n",
    "<img src=\"https://github.com/JaimeOro/FFI-Actividad01/blob/main/zinc-262-020.gif?raw=true\" \n",
    "     style=\"float:right; height: 320px; margin-right: 1%; margin-top: 0.0em;\">\n",
    "</td></tr>\n",
    "</table>"
   ]
  },
  {
   "cell_type": "code",
   "execution_count": 5,
   "metadata": {
    "execution": {
     "iopub.execute_input": "2020-11-22T14:13:36.190Z",
     "iopub.status.busy": "2020-11-22T14:13:36.181Z",
     "iopub.status.idle": "2020-11-22T14:13:36.206Z",
     "shell.execute_reply": "2020-11-22T14:13:36.102Z"
    }
   },
   "outputs": [
    {
     "ename": "SyntaxError",
     "evalue": "invalid syntax (<ipython-input-5-0c89401e450e>, line 1)",
     "output_type": "error",
     "traceback": [
      "\u001b[1;36m  File \u001b[1;32m\"<ipython-input-5-0c89401e450e>\"\u001b[1;36m, line \u001b[1;32m1\u001b[0m\n\u001b[1;33m    var longitudes_de_onda_medidas_zinc = [215, 230, 246, 262].map(x => x*1e-9);  // para pasar a metros\u001b[0m\n\u001b[1;37m        ^\u001b[0m\n\u001b[1;31mSyntaxError\u001b[0m\u001b[1;31m:\u001b[0m invalid syntax\n"
     ]
    }
   ],
   "source": [
    "var longitudes_de_onda_medidas_zinc = [215, 230, 246, 262].map(x => x*1e-9);  // para pasar a metros\n",
    "var voltajes_medidos_zinc = [-1.40, -1.00, -0.60, -0.20];  // en voltios (voltaje de frenado)\n",
    "\n",
    "\n",
    "console.log('Logitudes de ondas medidas Zinc= ' + longitudes_de_onda_medidas_zinc);\n",
    "\n",
    "var inversa_de_longitudes_de_onda_zinc = longitudes_de_onda_medidas_zinc.map(lambda => 1/lambda );  \n",
    "var datos_a_ajustar_zinc = voltajes_medidos_zinc.reduce((tuplas_longitud_onda_voltaje_zinc, b, i) => {\n",
    "    tuplas_longitud_onda_voltaje_zinc.push([inversa_de_longitudes_de_onda_zinc[i], b]);\n",
    "  return tuplas_longitud_onda_voltaje_zinc;\n",
    "}, []);\n",
    "console.log('Tuplas 1/lambdas= ' + datos_a_ajustar_zinc); // Verás que son tuplas de valores 1/lambda y voltajes\n",
    "\n",
    "\n"
   ]
  },
  {
   "cell_type": "markdown",
   "metadata": {},
   "source": [
    "## <a id='ejercicio2'></a> Ejercicio 2: Ajuste a una recta "
   ]
  },
  {
   "cell_type": "markdown",
   "metadata": {},
   "source": [
    "### Realizamo el ajuste de la recta y calculamos los valores de $ m $ y $b$"
   ]
  },
  {
   "cell_type": "markdown",
   "metadata": {},
   "source": [
    "**Constantes:**<br>\n",
    "$\\pi=3.141592 $<br>\n",
    "$ e=-1.602  x  10^{-19}$<br>\n",
    "$ c=3 x 10^{8}$<br>"
   ]
  },
  {
   "cell_type": "markdown",
   "metadata": {},
   "source": [
    "### Regresión Sodio"
   ]
  },
  {
   "cell_type": "code",
   "execution_count": 14,
   "metadata": {
    "execution": {
     "iopub.execute_input": "2020-11-22T14:13:36.223Z",
     "iopub.status.busy": "2020-11-22T14:13:36.215Z",
     "iopub.status.idle": "2020-11-22T14:13:36.234Z",
     "shell.execute_reply": "2020-11-22T14:13:36.110Z"
    }
   },
   "outputs": [
    {
     "ename": "SyntaxError",
     "evalue": "invalid syntax (<ipython-input-14-97986edbddaa>, line 1)",
     "output_type": "error",
     "traceback": [
      "\u001b[1;36m  File \u001b[1;32m\"<ipython-input-14-97986edbddaa>\"\u001b[1;36m, line \u001b[1;32m1\u001b[0m\n\u001b[1;33m    var regression = require('./regression.js');\u001b[0m\n\u001b[1;37m        ^\u001b[0m\n\u001b[1;31mSyntaxError\u001b[0m\u001b[1;31m:\u001b[0m invalid syntax\n"
     ]
    }
   ],
   "source": [
    "var regression = require('./regression.js');\n",
    "var result = regression.linear(datos_a_ajustar_sodio, { precision: 15 });\n",
    "var m = result.equation[0];  // pendiente\n",
    "var b = result.equation[1];  // ordenada al origen\n",
    "console.log('Pendiente m = ' + m);\n",
    "console.log('Ordenada b = ' + b);\n",
    "\n",
    "var h=(m * 1.602e-19)/(2 * 3.141592 * 3e8);\n",
    "\n",
    "console.log('h = ' + h + \" j*s\");"
   ]
  },
  {
   "cell_type": "markdown",
   "metadata": {},
   "source": [
    "Una  vez calculado los datos obtenemos los valores de la pendinente mediante la formula:\n",
    "$$\\hspace{5.3cm} m=\\frac{2\\pi h c }{ e}$$ y si despejamos de la formula $h$ obtenemos el valor de la consntante de Planck:\n",
    "\n",
    "$$ h = \\frac{m*e}{2*\\pi*c};   \\hspace{1.5em}   h=\\frac{ -0.000001361958109*1.602*10^-19}{2*3.141592*3*10^8}= -1.157511271683274*10^-34\\  J*s $$</pre>"
   ]
  },
  {
   "cell_type": "markdown",
   "metadata": {},
   "source": [
    "### Regresión Zinc"
   ]
  },
  {
   "cell_type": "code",
   "execution_count": null,
   "metadata": {
    "execution": {
     "iopub.execute_input": "2020-11-22T14:13:36.281Z",
     "iopub.status.busy": "2020-11-22T14:13:36.274Z",
     "iopub.status.idle": "2020-11-22T14:13:36.294Z",
     "shell.execute_reply": "2020-11-22T14:13:36.125Z"
    }
   },
   "outputs": [],
   "source": [
    "var regression = require('./regression.js');\n",
    "var result = regression.linear(datos_a_ajustar_zinc, { precision: 15 });\n",
    "var m = result.equation[0];  // pendiente\n",
    "var b = result.equation[1];  // ordenada al origen\n",
    "console.log('Pendiente m = ' + m);\n",
    "console.log('Ordenada b = ' + b);\n",
    "var h=(m * 1.602e-19)/(2 * 3.141592 * 3e8)\n",
    "console.log('h = ' + h + \" j*s\");"
   ]
  },
  {
   "cell_type": "markdown",
   "metadata": {},
   "source": [
    "Una  vez calculado los datos obtenemos los valores de la pendinente mediante la formula:\n",
    "$$\\hspace{5.3cm} m=\\frac{2\\pi h c }{ e}$$ y si despejamos de la formula $h$ obtenemos el valor de la consntante de Planck:\n",
    "\n",
    "$$ h = \\frac{m*e}{2*\\pi*c};   \\hspace{1.5em}  h=\\frac{ -0.000001432967943*1.602*10^-19}{2*3.141592*3*10^8}= -1.2178616471553278*10^-34\\  J*s $$"
   ]
  },
  {
   "cell_type": "code",
   "execution_count": null,
   "metadata": {},
   "outputs": [],
   "source": []
  },
  {
   "cell_type": "markdown",
   "metadata": {},
   "source": [
    "###  <a id=\"premium\"></a>Intensidad de corriente en función de la intensidad de la luz"
   ]
  },
  {
   "cell_type": "markdown",
   "metadata": {},
   "source": [
    "Realizamos el experimento:"
   ]
  },
  {
   "cell_type": "markdown",
   "metadata": {},
   "source": [
    "\n",
    "\n",
    "\n",
    "<img src=\"https://raw.githubusercontent.com/amartich/FFI_UNIR/main/Efecto_Fotoelectrico/premium2.gif\" style=\"width: 65%; margin-left: 16%; margin-top: -1.5em;\">"
   ]
  },
  {
   "cell_type": "markdown",
   "metadata": {},
   "source": [
    "Comprobamos en este experimento que al aumentar la intensidad de la luz, aumenta la intensidad de la corriente fotoelectrica.<br>\n",
    "Observamos además en los datos que ésta relación es proporcional. \n",
    "\n",
    "Metal: Zinc<br>\n",
    "$ \\lambda = $ 100nm\n",
    "\n",
    " | Intensidad de la luz<br>en banco de pruebas | Intensidad de corriente | Observaciones\n",
    " :------: |:----------: | :---------- |\n",
    "       0%| $ 0.00A $ |Si la intensidad de la luz es 0, no hay emisión de fotones|\n",
    "         |          |             |             |\n",
    "      50%| $  0.441A $ | A un 50% de intensidad la corriente es de 0.441A \n",
    "      100%| $  0.882A $ | A un 100% de intensidad de la luz, vemos que la corriente es proporcional a la intensidad de la luz.<br> $ \\frac{100}{50} = \\frac{0.882}{0.441} = 2  $\n",
    "\n"
   ]
  },
  {
   "cell_type": "markdown",
   "metadata": {},
   "source": [
    "##    <a id=\"historia\"></a>Historia en torno al Efecto Fotoeléctrico\n"
   ]
  },
  {
   "cell_type": "markdown",
   "metadata": {},
   "source": [
    "<span style=\"float: left; width:100%;\"> \n",
    "  <br>\n",
    "     <p>En 1864, James Clerk Maxwell consiguió la unificación de la electricidad y el magnetismo a través de un conjunto de ecuaciones matemáticas que describían el comportamiento del fenómeno que denominó electromagnetismo. En 1887, H. Hertz experimentó la existencia de las ondas electromagnéticas, pero no fue capaz de esbozar ninguna teoría, ya que ni siquiera conocía la existencia del electrón;  fue dos años después de descubrir el electrón, en 1899, cuando Thomson sostuvo que las partículas emitidas en el efecto fotoeléctrico producido por la luz ultravioleta eran electrones, siendo tal afirmación  aceptada por la comunidad de físicos, asumiendo además, la denominación de fotoelectrones y  aceptando que su generación podía deberse tanto a la luz ultravioleta como a radiación de cualquier otra frecuencia.  En 1902, Philipp Lenard, ayudante de Hertz, experimentó el efecto fotoeléctrico entre dos placas metálicas colocadas en un tubo donde se había hecho el vacío, donde observó cómo al colocar una batería se detectaba corriente eléctrica debido a la emisión de fotoelectrones desde la placa iluminada con luz ultravioleta. Por tanto, antes de 1905 se habían establecido experimentalmente tres hechos empíricos asociados al efecto fotoeléctrico, que son la existencia de una frecuencia umbral de la luz incidente por debajo de la cual no se observa la emisión de fotoelectrones, la energía de los fotoelectrones aumenta con la frecuencia de la luz incidente y la ausencia de tiempo de retardo en la emisión de fotoelectrones. En este mismo año, 1905,  Einstein explicó el efecto fotoeléctrico introduciendo la teoría cuántica de la luz, pero admitió que su teoría también era incompleta porque no podía justificar fenómenos tales como la interferencia, difracción y polarización, mientras que la teoría ondulatoria de Lenard y antecesores sí era capaz de interpretar; debido a esto en 1909, Einstein habló de la fusión de ambas teorías. No fue hasta 1923 que los experimentos de P. Debye y Compton hicieron que la mayoría de los físicos se convencieron en adoptar la teoría cuántica de la luz de Einstein. Ese mismo año Louis Victor Pierre Raymond de Broglie dio un paso más y generalizó la dualidad onda-corpúsculo al caso de las partículas materiales y en concreto de los electrones asignándoles una “onda asociada ficticia”, es decir, en 1923 se generalizó la naturaleza híbrida de los cuantos, dotada al mismo tiempo de características corpusculares y ondulatorias (dualidad onda-corpúsculo). Einstein advirtió de este fenómeno casi 20 años antes y le concedieron, no sin polémica, el Premio Nobel de 1921 por el descubrimiento de la ley del efecto fotoeléctrico.</p>\n",
    "\n"
   ]
  },
  {
   "cell_type": "markdown",
   "metadata": {},
   "source": [
    "\n",
    "\n",
    " "
   ]
  },
  {
   "cell_type": "code",
   "execution_count": null,
   "metadata": {},
   "outputs": [],
   "source": []
  }
 ],
 "metadata": {
  "kernelspec": {
   "display_name": "Python 3",
   "language": "python",
   "name": "python3"
  },
  "language_info": {
   "codemirror_mode": {
    "name": "ipython",
    "version": 3
   },
   "file_extension": ".py",
   "mimetype": "text/x-python",
   "name": "python",
   "nbconvert_exporter": "python",
   "pygments_lexer": "ipython3",
   "version": "3.8.5"
  },
  "nteract": {
   "version": "0.26.0"
  }
 },
 "nbformat": 4,
 "nbformat_minor": 4
}
