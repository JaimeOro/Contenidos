{
 "cells": [
  {
   "cell_type": "markdown",
   "metadata": {},
   "source": [
    "<h2><span style=\"color:#A8A8A8;\">   Actividad #02:</span></h2> \n",
    " <strong><br><br><span style=\"font-size: 3em; margin-right:2em;text-align:center\">Partícula en un campo magnético</span><br><br></strong> \n",
    " <br><br>\n",
    "<ul style=\"list-style-type:none;   float:left\">\n",
    "        <li>   Asignatura:  <strong>Fundamentos Físicos de la Informática </strong></li>\n",
    "        <li>     Profesor:  <strong>  Alberto Corbi Bellot</strong> </li>\n",
    "        <li>   Fecha:   <strong>02 de diciembre de de 2020 </strong> </li> \n",
    "        <li>    Autores: \n",
    "               <ul style=\"list-style-type:none;  padding-left:5em\">\n",
    "                        <li> <strong> Anyel Martich </strong></li>\n",
    "                        <li> <strong> Alex Sun </strong></li>\n",
    "                        <li> <strong>Joffe Pilco</strong> </li>\n",
    "                        <li>  <strong>Jaime Orozco </strong></li>\n",
    "            </ul></li></ul>"
   ]
  },
  {
   "cell_type": "markdown",
   "metadata": {},
   "source": [
    "## Enunciado"
   ]
  },
  {
   "cell_type": "markdown",
   "metadata": {},
   "source": [
    "Un electrón con una capacidad de trabajo de $72090×10^{−19}$ J orbita de manera perpendicular a un campo magnético de __3250 G__. ¿Cuál es el radio de la órbita? ¿Y su frecuencia y periodo angular? Resuelve el mismo ejercicio para un antineutrón."
   ]
  },
  {
   "cell_type": "markdown",
   "metadata": {},
   "source": [
    "<img src=\"https://raw.githubusercontent.com/Joffre-Pilco/FFI_Efecto/main/campo.gif\" style=\"float: left; width: 35%; margin-right: 1%; margin-bottom: 0.5em;\">"
   ]
  },
  {
   "cell_type": "markdown",
   "metadata": {},
   "source": [
    "## Planteamiento"
   ]
  },
  {
   "cell_type": "markdown",
   "metadata": {},
   "source": [
    "Cuando una carga atraviesa perpendicularmente un campo magnético experimenta una fuerza que le produce una desviación en la dirección, es decir, se curva la trayetoria de esa carga. \n",
    "\n",
    "La fuerza experimentada será perpendicular al vector dirección que lleva esa partícula.\n",
    "\n",
    "Hay que calcular el radio de esa curvatura.\n",
    "\n"
   ]
  },
  {
   "cell_type": "markdown",
   "metadata": {},
   "source": [
    "Inicializamos el entorno de Python para los cálculos"
   ]
  },
  {
   "cell_type": "code",
   "execution_count": 12,
   "metadata": {},
   "outputs": [],
   "source": [
    "from sympy.physics.units import Quantity\n",
    "from sympy.physics.units.systems import SI\n",
    "from sympy.physics.units import magnetic_flux_density\n",
    "from sympy.physics.units import tesla\n",
    "from sympy.physics.units import joule\n",
    "from sympy import solve, symbols, pi, Eq\n",
    "from sympy.physics.units import electronvolt\n",
    "from sympy.physics.units import volt\n",
    "from sympy.physics.units import speed_of_light as c\n",
    "from sympy.physics.units import convert_to\n",
    "from sympy.physics.units import meter\n",
    "from sympy.physics.units import second\n",
    "from sympy.physics.units import radian\n"
   ]
  },
  {
   "cell_type": "code",
   "execution_count": 13,
   "metadata": {},
   "outputs": [],
   "source": [
    "\n",
    "def f(x):\n",
    "    return x;\n"
   ]
  },
  {
   "cell_type": "markdown",
   "metadata": {},
   "source": [
    "Partimos de los datos del enunciado:"
   ]
  },
  {
   "cell_type": "markdown",
   "metadata": {},
   "source": [
    "1. De un electrón, conocemos su masa y su carga"
   ]
  },
  {
   "cell_type": "markdown",
   "metadata": {},
   "source": [
    "2. Tenemos la fuerza del campo magnético son 3250 Gauss que convertimos a Teslas, la unidad del sistema internacional"
   ]
  },
  {
   "cell_type": "code",
   "execution_count": 7,
   "metadata": {
    "jupyter": {
     "outputs_hidden": false
    }
   },
   "outputs": [
    {
     "name": "stdout",
     "output_type": "stream",
     "text": [
      "Campo Magnetico:  3250*Gauss\n"
     ]
    }
   ],
   "source": [
    "Gs = Quantity(\"Gauss\",1)\n",
    "\n",
    "SI.set_quantity_dimension(Gs, magnetic_flux_density)\n",
    "\n",
    "SI.set_quantity_scale_factor(Gs, 1E-4*tesla)\n",
    "B = 3250 * Gs\n",
    "print (\"Campo Magnetico: \",B)"
   ]
  },
  {
   "cell_type": "markdown",
   "metadata": {},
   "source": [
    "3. Tenemos la energía que produce ese electrón, en Julios"
   ]
  },
  {
   "cell_type": "code",
   "execution_count": 8,
   "metadata": {
    "jupyter": {
     "outputs_hidden": false
    }
   },
   "outputs": [
    {
     "name": "stdout",
     "output_type": "stream",
     "text": [
      "Energía 7.209e-15*joule\n"
     ]
    }
   ],
   "source": [
    "E = (72090E-19 )* joule\n",
    "\n",
    "print (\"Energía\", E)\n"
   ]
  },
  {
   "cell_type": "markdown",
   "metadata": {},
   "source": [
    "## Ecuaciones a utilizar"
   ]
  },
  {
   "cell_type": "markdown",
   "metadata": {},
   "source": [
    "### Ecuación de Lorenz"
   ]
  },
  {
   "cell_type": "markdown",
   "metadata": {},
   "source": [
    "$F = q_e v_e B$"
   ]
  },
  {
   "cell_type": "markdown",
   "metadata": {},
   "source": [
    "donde aplicamos que $F = \\frac {m v^2}{r}$ (ley de Newton)"
   ]
  },
  {
   "cell_type": "markdown",
   "metadata": {},
   "source": [
    "$q_e v_e B= \\frac {m_e * v_e^2}{r}$"
   ]
  },
  {
   "cell_type": "markdown",
   "metadata": {},
   "source": [
    "### Ecuación de Energía Cinética de un cuerpo en movimiento"
   ]
  },
  {
   "cell_type": "markdown",
   "metadata": {},
   "source": [
    "$ E_c = \\frac {1}{2}m v^2$"
   ]
  },
  {
   "cell_type": "markdown",
   "metadata": {},
   "source": [
    "Despejando en esta ecuación"
   ]
  },
  {
   "cell_type": "markdown",
   "metadata": {},
   "source": [
    "$ 2E_C = m v^2 $    y     $ v = \\frac {\\sqrt{2 E_c}} {\\sqrt{{m}} } $"
   ]
  },
  {
   "cell_type": "markdown",
   "metadata": {},
   "source": [
    "y sustituyendo en la de Lorenz tenemos que:"
   ]
  },
  {
   "cell_type": "markdown",
   "metadata": {},
   "source": [
    "$ \\frac {\\sqrt{2 E_c} B q_e} {\\sqrt{m_e}} = \\frac {2 E_c}{r}$"
   ]
  },
  {
   "cell_type": "markdown",
   "metadata": {},
   "source": [
    "y despejando el radio, que es lo que queremos calcular, tenemos la siguiente ecuación"
   ]
  },
  {
   "cell_type": "markdown",
   "metadata": {},
   "source": [
    "$r = \\frac {\\sqrt{2 E_c m}} {B q} $"
   ]
  },
  {
   "cell_type": "markdown",
   "metadata": {},
   "source": [
    "## Resolución"
   ]
  },
  {
   "cell_type": "markdown",
   "metadata": {},
   "source": [
    "Sustituyendo los valores en la ecuación anterior:"
   ]
  },
  {
   "cell_type": "code",
   "execution_count": 9,
   "metadata": {
    "jupyter": {
     "outputs_hidden": false
    }
   },
   "outputs": [
    {
     "name": "stdout",
     "output_type": "stream",
     "text": [
      "Radio:  0.0022*meter\n"
     ]
    }
   ],
   "source": [
    "r = symbols(\"r_giro\")\n",
    "v = symbols(\"v_giro\")\n",
    "\n",
    "q = 1*electronvolt/volt\n",
    "\n",
    "m = 0.5 * 1E6 * electronvolt / c**2\n",
    "eq_lorentz = Eq(q*v*B, (m*v**2)/r)\n",
    "eq_ecinetica = Eq(E, 0.5*m*v**2)\n",
    "solucion_v_r = solve([eq_ecinetica, eq_lorentz], [v, r])[1]\n",
    "radio = solucion_v_r[1]\n",
    "\n",
    "\n",
    "radio = convert_to(radio, [meter]).n(2)\n",
    "print(\"Radio: \",radio)\n"
   ]
  },
  {
   "cell_type": "markdown",
   "metadata": {},
   "source": [
    "## Calculando frecuencia y periodo angular"
   ]
  },
  {
   "cell_type": "markdown",
   "metadata": {},
   "source": [
    "Si, además, queremos calcular la frecuencia y el periodo angular debemos saber que:\n",
    "* Frecuencia (f) => Número de vueltas por segundo. Medido en Hertzios (Hz)\n",
    "* Periodo    (T) => Tiempo que se tarda en dar una vuelta completa"
   ]
  },
  {
   "cell_type": "markdown",
   "metadata": {},
   "source": [
    "Dado que el periodo es la inversa de la frecuencia $T = \\frac {1} {f} $"
   ]
  },
  {
   "cell_type": "markdown",
   "metadata": {},
   "source": [
    "Y sabemos que el periodo angular es $T = \\frac {2 \\pi r } {v} = \\frac {2 \\pi m} {q B} $\n"
   ]
  },
  {
   "cell_type": "markdown",
   "metadata": {},
   "source": [
    "Por tanto, podemos calcular frecuencia y periodo angular:"
   ]
  },
  {
   "cell_type": "code",
   "execution_count": 10,
   "metadata": {
    "jupyter": {
     "outputs_hidden": false
    },
    "scrolled": true
   },
   "outputs": [
    {
     "name": "stdout",
     "output_type": "stream",
     "text": [
      "Periodo (T):  1.1e-10*second\n",
      "Frecuencia (f):  9.3e+9/second\n"
     ]
    }
   ],
   "source": [
    "T = (2 * pi * m /(B*q))\n",
    "T = convert_to(T, [second]).n(2)\n",
    "f = 1 / T\n",
    "print (\"Periodo (T): \", T)\n",
    "print (\"Frecuencia (f): \", f)"
   ]
  },
  {
   "cell_type": "markdown",
   "metadata": {},
   "source": [
    "Si verificamos los cálculos utilizando la velocidad angular $\\omega$:"
   ]
  },
  {
   "cell_type": "markdown",
   "metadata": {},
   "source": [
    "Sabiendo que la velocidad velocidad angular es:"
   ]
  },
  {
   "cell_type": "markdown",
   "metadata": {},
   "source": [
    "$ \\omega = \\frac {q B} {m}$"
   ]
  },
  {
   "cell_type": "markdown",
   "metadata": {},
   "source": [
    "La Frecuencia angular $f$:"
   ]
  },
  {
   "cell_type": "markdown",
   "metadata": {},
   "source": [
    "$f = \\frac {\\omega} {2 \\pi} $"
   ]
  },
  {
   "cell_type": "markdown",
   "metadata": {},
   "source": [
    "Y el Periodo angular $T$:"
   ]
  },
  {
   "cell_type": "markdown",
   "metadata": {},
   "source": [
    "$T = \\frac {2 \\pi} {\\omega} $\n"
   ]
  },
  {
   "cell_type": "code",
   "execution_count": 11,
   "metadata": {
    "jupyter": {
     "outputs_hidden": false
    }
   },
   "outputs": [
    {
     "name": "stdout",
     "output_type": "stream",
     "text": [
      "Velocidad angular:  5.8e+10*radian/second\n",
      "Periodo:  1.1e-10*second\n",
      "Frecuencia:  2.9e+10*radian/(pi*second)\n"
     ]
    }
   ],
   "source": [
    "v_a = (B*q) / m\n",
    "v_a = convert_to(v_a, [radian/second]).n(2)\n",
    "T_a = (2 * pi) / v_a\n",
    "T_a = convert_to(T_a, [second]).n(2)\n",
    "f_a = v_a / (2 * pi)\n",
    "\n",
    "print (\"Velocidad angular: \", v_a)\n",
    "print (\"Periodo: \", T_a)\n",
    "print (\"Frecuencia: \", f_a)"
   ]
  },
  {
   "cell_type": "markdown",
   "metadata": {},
   "source": [
    "## Cálculos para un antineutrón"
   ]
  },
  {
   "cell_type": "markdown",
   "metadata": {},
   "source": [
    "Un antineutrón es la antipartícula de un neutrón. Tiene la misma masa que éste y no tiene carga eléctrica, por tanto, no se verá afectado por un campo magnético."
   ]
  },
  {
   "cell_type": "markdown",
   "metadata": {},
   "source": [
    "# Preguntas\n",
    "\n",
    "## ¿Por qué indicamos que las dimensiones de la unidad gauss (definida por nosotros) son de densidad de flujo magnético (magnetic_flux_density)?\n",
    "El flujo magnético es una medida del campo magnético total que pasa a través de un área dada. Es una herramienta útil para describir los efectos de la fuerza magnética en algún objeto que ocupa un área dada. La medición del campo magnético está atada al área particular de elección. Podemos escoger como queramos el tamaño del área y su orientación relativa al campo magnético.Como estamos haciendo los calculos sobre una particula no podemos depender del area que esta ocupa, por lo que es necesario establecer esta unidad.volt\n",
    "\n",
    "## ¿Por qué la carga del electrón se ha definido como electronvolt/volt?\n",
    "La carga del electrón se ha definido como electronvolt/volt porque es la programación que utiliza SymPy, que es una biblioteca de Python, es decir un sistema de álgebra computacional con sus funciones.\n",
    "\n"
   ]
  },
  {
   "cell_type": "markdown",
   "metadata": {},
   "source": [
    "# Tabla de valoración individual\n",
    "\n",
    "|   |         Sí | No        |    A veces |\n",
    "| ---------- | ---------- |---------- | ---------- |\n",
    "| Todos los miembros se han integrado al trabajo del grupo   | X   |     |   |\n",
    "| Todos los miembros participan activamente   | x   |        |     |    \n",
    "| Todos los miembros respetan otras ideas aportadas   | x   |        |     |    \n",
    "| Todos los miembros participan en la elaboración del informe   | x   |        |     |    \n",
    "| Me he preocupado por realizar un trabajo cooperativo con mis compañeros  | x   |        |     |    \n",
    "| Señala si consideras que algún aspecto del trabajo en grupo no ha sido adecuado   |    |        |     |     |\n",
    "\n",
    "\n",
    "\n",
    "\n",
    "\n",
    " \n"
   ]
  }
 ],
 "metadata": {
  "kernelspec": {
   "display_name": "Python 3",
   "language": "python",
   "name": "python3"
  },
  "language_info": {
   "codemirror_mode": {
    "name": "ipython",
    "version": 3
   },
   "file_extension": ".py",
   "mimetype": "text/x-python",
   "name": "python",
   "nbconvert_exporter": "python",
   "pygments_lexer": "ipython3",
   "version": "3.8.3"
  },
  "nteract": {
   "version": "0.27.0"
  }
 },
 "nbformat": 4,
 "nbformat_minor": 4
}
